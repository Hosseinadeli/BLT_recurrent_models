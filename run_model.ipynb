{
 "cells": [
  {
   "cell_type": "code",
   "execution_count": 1,
   "metadata": {},
   "outputs": [
    {
     "name": "stdout",
     "output_type": "stream",
     "text": [
      "/engram/nklab/hossein/recurrent_models/BLT_models\n"
     ]
    }
   ],
   "source": [
    "data_path = '/share/data/imagenet-pytorch'\n",
    "\n",
    "import os\n",
    "os.chdir('/engram/nklab/hossein/recurrent_models/BLT_models/')\n",
    "!pwd\n",
    "\n",
    "#--wandb_p 'vggface2' --wandb_r 'blt_bl' "
   ]
  },
  {
   "cell_type": "code",
   "execution_count": 2,
   "metadata": {},
   "outputs": [
    {
     "name": "stdout",
     "output_type": "stream",
     "text": [
      "/engram/nklab/hossein/recurrent_models/BLT_models/models/blt.py:160: SyntaxWarning: \"is not\" with a literal. Did you mean \"!=\"?\n",
      "  elif conn_input is not 0:\n",
      "cuda\n",
      "100%|██████████████████████████████████████| 3890/3890 [00:04<00:00, 802.06it/s]\n",
      "100%|█████████████████████████████████████| 3890/3890 [00:01<00:00, 2037.04it/s]\n",
      "Number of model parameters: 6506418\n",
      "blt(\n",
      "  (conv_input): Conv2d(3, 64, kernel_size=(5, 5), stride=(2, 2), padding=(2, 2))\n",
      "  (non_lin_input): ReLU(inplace=True)\n",
      "  (norm_input): GroupNorm(32, 64, eps=1e-05, affine=True)\n",
      "  (non_lin_0): ReLU(inplace=True)\n",
      "  (norm_0): GroupNorm(32, 64, eps=1e-05, affine=True)\n",
      "  (output_0): Identity()\n",
      "  (norm_0_1): GroupNorm(32, 128, eps=1e-05, affine=True)\n",
      "  (non_lin_0_1): ReLU(inplace=True)\n",
      "  (conv_0_1): Conv2d(64, 128, kernel_size=(3, 3), stride=(2, 2), padding=(1, 1))\n",
      "  (non_lin_1): ReLU(inplace=True)\n",
      "  (norm_1): GroupNorm(32, 128, eps=1e-05, affine=True)\n",
      "  (output_1): Identity()\n",
      "  (norm_1_2): GroupNorm(32, 256, eps=1e-05, affine=True)\n",
      "  (non_lin_1_2): ReLU(inplace=True)\n",
      "  (conv_1_2): Conv2d(128, 256, kernel_size=(3, 3), stride=(2, 2), padding=(1, 1))\n",
      "  (non_lin_2): ReLU(inplace=True)\n",
      "  (norm_2): GroupNorm(32, 256, eps=1e-05, affine=True)\n",
      "  (output_2): Identity()\n",
      "  (norm_2_3): GroupNorm(32, 256, eps=1e-05, affine=True)\n",
      "  (non_lin_2_3): ReLU(inplace=True)\n",
      "  (conv_2_3): Conv2d(256, 256, kernel_size=(3, 3), stride=(1, 1), padding=(1, 1))\n",
      "  (non_lin_3): ReLU(inplace=True)\n",
      "  (norm_3): GroupNorm(32, 256, eps=1e-05, affine=True)\n",
      "  (output_3): Identity()\n",
      "  (norm_3_4): GroupNorm(32, 512, eps=1e-05, affine=True)\n",
      "  (non_lin_3_4): ReLU(inplace=True)\n",
      "  (conv_3_4): Conv2d(256, 512, kernel_size=(3, 3), stride=(2, 2), padding=(1, 1))\n",
      "  (non_lin_4): ReLU(inplace=True)\n",
      "  (norm_4): GroupNorm(32, 512, eps=1e-05, affine=True)\n",
      "  (output_4): Identity()\n",
      "  (norm_4_5): GroupNorm(32, 512, eps=1e-05, affine=True)\n",
      "  (non_lin_4_5): ReLU(inplace=True)\n",
      "  (conv_4_5): Conv2d(512, 512, kernel_size=(3, 3), stride=(2, 2), padding=(1, 1))\n",
      "  (non_lin_5): ReLU(inplace=True)\n",
      "  (norm_5): GroupNorm(32, 512, eps=1e-05, affine=True)\n",
      "  (output_5): Identity()\n",
      "  (read_out): Sequential(\n",
      "    (avgpool): AdaptiveAvgPool2d(output_size=1)\n",
      "    (flatten): Flatten()\n",
      "    (linear): Linear(in_features=512, out_features=3890, bias=True)\n",
      "  )\n",
      ")\n",
      "\n",
      "train_params ['conv_input.weight', 'conv_input.bias', 'norm_input.weight', 'norm_input.bias', 'norm_0.weight', 'norm_0.bias', 'norm_0_1.weight', 'norm_0_1.bias', 'conv_0_1.weight', 'conv_0_1.bias', 'norm_1.weight', 'norm_1.bias', 'norm_1_2.weight', 'norm_1_2.bias', 'conv_1_2.weight', 'conv_1_2.bias', 'norm_2.weight', 'norm_2.bias', 'norm_2_3.weight', 'norm_2_3.bias', 'conv_2_3.weight', 'conv_2_3.bias', 'norm_3.weight', 'norm_3.bias', 'norm_3_4.weight', 'norm_3_4.bias', 'conv_3_4.weight', 'conv_3_4.bias', 'norm_4.weight', 'norm_4.bias', 'norm_4_5.weight', 'norm_4_5.bias', 'conv_4_5.weight', 'conv_4_5.bias', 'norm_5.weight', 'norm_5.bias', 'read_out.linear.weight', 'read_out.linear.bias']\n",
      "Start training\n",
      "Epoch: [0]  [    0/10016]  eta: 3:00:58  lr: 0.000500  loss_labels: 8.3418 (8.3418)  loss: 8.3418 (8.3418)  time: 1.0841\n",
      "Epoch: [0]  [  100/10016]  eta: 0:19:56  lr: 0.000500  loss_labels: 8.3154 (8.3136)  loss: 8.2981 (8.3136)  time: 0.1149\n",
      "Epoch: [0]  [  200/10016]  eta: 0:19:47  lr: 0.000500  loss_labels: 8.2625 (8.2907)  loss: 8.2577 (8.2907)  time: 0.1122\n",
      "Epoch: [0]  [  300/10016]  eta: 0:19:08  lr: 0.000500  loss_labels: 8.2563 (8.2795)  loss: 8.2563 (8.2795)  time: 0.1098\n",
      "Epoch: [0]  [  400/10016]  eta: 0:18:38  lr: 0.000500  loss_labels: 8.2523 (8.2729)  loss: 8.2534 (8.2729)  time: 0.1107\n",
      "Epoch: [0]  [  500/10016]  eta: 0:18:23  lr: 0.000500  loss_labels: 8.2502 (8.2683)  loss: 8.2502 (8.2683)  time: 0.1136\n",
      "Epoch: [0]  [  600/10016]  eta: 0:18:10  lr: 0.000500  loss_labels: 8.2472 (8.2646)  loss: 8.2361 (8.2646)  time: 0.1128\n",
      "^C\n",
      "Traceback (most recent call last):\n",
      "  File \"/engram/nklab/hossein/recurrent_models/BLT_models/main.py\", line 284, in <module>\n",
      "    main(0, 1, args)\n",
      "  File \"/engram/nklab/hossein/recurrent_models/BLT_models/main.py\", line 235, in main\n",
      "    train_stats = train_one_epoch(\n",
      "                  ^^^^^^^^^^^^^^^^\n",
      "  File \"/engram/nklab/hossein/recurrent_models/BLT_models/engine.py\", line 23, in train_one_epoch\n",
      "    imgs = imgs.cuda()\n",
      "           ^^^^^^^^^^^\n",
      "KeyboardInterrupt\n"
     ]
    }
   ],
   "source": [
    "!python main.py --distributed 0 --save_model 0 --dataset 'vggface2' --num_layers 6 --model 'blt_b' --epochs 100 --lr .0005"
   ]
  },
  {
   "cell_type": "code",
   "execution_count": null,
   "metadata": {},
   "outputs": [],
   "source": [
    "!python main.py --save_model 0 --dataset 'imagenet' --wandb_p 'imagenet' --wandb_r 'blt_bl'  --model 'blt_bl' --epochs 100 --lr .001"
   ]
  },
  {
   "cell_type": "code",
   "execution_count": 4,
   "metadata": {},
   "outputs": [
    {
     "name": "stdout",
     "output_type": "stream",
     "text": [
      "Submitted batch job 3511802\n"
     ]
    },
    {
     "data": {
      "text/plain": [
       "CompletedProcess(args=['sbatch', '/engram/nklab/hossein/batch_scripts/imagenet_nb.sh'], returncode=0)"
      ]
     },
     "execution_count": 4,
     "metadata": {},
     "output_type": "execute_result"
    }
   ],
   "source": [
    "#!/usr/bin/env python\n",
    "\n",
    "import subprocess\n",
    "import os\n",
    "import numpy as np\n",
    "import time\n",
    "\n",
    "\n",
    "script = f'''#!/bin/sh\n",
    "#\n",
    "#\n",
    "#SBATCH --account=nklab\n",
    "#SBATCH --job-name=b_6_fc  # The job name.\n",
    "#SBATCH --gres=gpu:2\n",
    "#SBATCH --nodelist=ax01\n",
    "#SBATCH --cpus-per-task=14\n",
    "\n",
    "ml load anaconda3-2019.03\n",
    "\n",
    "cd /engram/nklab/hossein/recurrent_models/BLT_models/\n",
    "\n",
    "conda activate pytorch\n",
    "\n",
    "python main.py --save_model 1 --dataset 'vggface2' --wandb_p 'vggface2' --wandb_r 'blt_b_6'  --model 'blt_b' --num_layers 6 --epochs 100 --lr .0005  --port '12381' --run 1\n",
    "\n",
    "'''\n",
    "\n",
    "bash_script_path = \"/engram/nklab/hossein/batch_scripts/imagenet_nb.sh\"\n",
    "os.chdir('/engram/nklab/hossein/batch_scripts/')\n",
    "\n",
    "with open(bash_script_path, \"w+\") as bash_script_file:\n",
    "    bash_script_file.write(script)\n",
    "\n",
    "subprocess.run(['sbatch', '/engram/nklab/hossein/batch_scripts/imagenet_nb.sh'\n",
    "])"
   ]
  }
 ],
 "metadata": {
  "kernelspec": {
   "display_name": "Python 3 (ipykernel)",
   "language": "python",
   "name": "python3"
  },
  "language_info": {
   "codemirror_mode": {
    "name": "ipython",
    "version": 3
   },
   "file_extension": ".py",
   "mimetype": "text/x-python",
   "name": "python",
   "nbconvert_exporter": "python",
   "pygments_lexer": "ipython3",
   "version": "3.11.3"
  }
 },
 "nbformat": 4,
 "nbformat_minor": 2
}
