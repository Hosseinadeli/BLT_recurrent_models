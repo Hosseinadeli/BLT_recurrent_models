{
 "cells": [
  {
   "cell_type": "code",
   "execution_count": 1,
   "metadata": {},
   "outputs": [
    {
     "name": "stdout",
     "output_type": "stream",
     "text": [
      "/engram/nklab/hossein/recurrent_models/BLT_models\n"
     ]
    }
   ],
   "source": [
    "data_path = '/share/data/imagenet-pytorch'\n",
    "\n",
    "import os\n",
    "os.chdir('/engram/nklab/hossein/recurrent_models/BLT_models/')\n",
    "!pwd"
   ]
  },
  {
   "cell_type": "code",
   "execution_count": null,
   "metadata": {},
   "outputs": [],
   "source": [
    "!python main.py --save_model 1 --dataset 'vggface2' --wandb_p 'vggface2' --wandb_r 'blt_bl'  --model 'blt_bl' --epochs 100 --lr .0005"
   ]
  },
  {
   "cell_type": "code",
   "execution_count": null,
   "metadata": {},
   "outputs": [],
   "source": [
    "!python main.py --save_model 0 --dataset 'imagenet' --wandb_p 'imagenet' --wandb_r 'blt_bl'  --model 'blt_bl' --epochs 100 --lr .001"
   ]
  },
  {
   "cell_type": "code",
   "execution_count": null,
   "metadata": {},
   "outputs": [
    {
     "data": {
      "text/plain": [
       "array([    0, 12510, 25020, 37530, 50040, 62550])"
      ]
     },
     "execution_count": 6,
     "metadata": {},
     "output_type": "execute_result"
    },
    {
     "name": "stdout",
     "output_type": "stream",
     "text": [
      "Submitted batch job 3378191\n"
     ]
    },
    {
     "data": {
      "text/plain": [
       "CompletedProcess(args=['sbatch', '/engram/nklab/hossein/batch_scripts/imagenet_nb.sh'], returncode=0)"
      ]
     },
     "execution_count": 6,
     "metadata": {},
     "output_type": "execute_result"
    }
   ],
   "source": [
    "#!/usr/bin/env python\n",
    "\n",
    "import subprocess\n",
    "import os\n",
    "import numpy as np\n",
    "import time\n",
    "\n",
    "# Define lists of values\n",
    "# num_layers_value = [2, 4, 5, 7]\n",
    "# num_layers_value = np.arange(1, 6)\n",
    "# seeds = [1, 2, 3]\n",
    "# seed = 0\n",
    "\n",
    "# face vggface2 recon  # \"face detr dino\"\n",
    "##SBATCH --nodelist=ax01  --num_ids 1000 \n",
    "#--wandb_p 'imagenet classification' --wandb_r 'cornet_z'\n",
    "##SBATCH --nodelist=ax19\n",
    "##SBATCH --exclude=ax[03-15]\n",
    "# python main.py --save_model 1 --wandb_p 'NSD' --wandb_r 'faces_dinov2'  --objective 'nsd' --readout_res 'faces' --task_arch 'transformer' --backbone_arch 'dinov2' --batch_size 32\n",
    "\n",
    "#python main.py --save_model 1 --wandb_p 'imagenet classification' --wandb_r 'cornet_rt_8steps'  --objective 'classification' --dataset 'imagenet' --task_arch 'cornet_rt' --batch_size 512\n",
    "\n",
    "#python main.py --save_model 1 --wandb_p 'imagenet_vggface2' --wandb_r 'cornet_rt_8steps'  --objective 'classification' --dataset 'imagenet_vggface2' --run 2 --task_arch 'cornet_rt' --batch_size 384\n",
    "\n",
    "#!python main.py --save_model 1 --wandb_p 'NSD' --wandb_r 'faces_dinov2'  --objective 'nsd' --readout_res 'faces' --task_arch 'transformer' --backbone_arch 'dinov2' --batch_size 32 --run 2\n",
    "\n",
    "#python main.py --save_model 1 --resume '/engram/nklab/hossein/recurrent_models/transformer_brain/results_new/classification_cornet_rt_imagenet_vggface2/run_1/checkpoint.pth' --wandb_p 'imagenet_vggface2' --wandb_r 'cornet_rt_8steps'  --objective 'classification' --dataset 'imagenet_vggface2' --run 1 --task_arch 'cornet_rt' --batch_size 768\n",
    "\n",
    "#python main.py --save_model 1 --distributed 1 --wandb_p 'imagenet_vggface2' --wandb_r 'b3lt3_4l_8t'  --objective 'classification' --dataset 'imagenet_vggface2' --run 1 --task_arch 'blt_b3lt3' --batch_size 512\n",
    "\n",
    "#python main.py --save_model 1 --distributed 1 --wandb_p 'imagenet_vggface2' --wandb_r 'cornet_rt_8steps_ddp'  --objective 'classification' --dataset 'imagenet_vggface2' --run 3 --task_arch 'cornet_rt' --batch_size 128\n",
    "\n",
    "#python main.py --save_model 1 --distributed 1 --wandb_p 'imagenet_vggface2' --wandb_r 'blt_5l_9t'  --objective 'classification' --dataset 'imagenet_vggface2' --run 1 --task_arch 'blt_blt' --recurrent_steps 9 --batch_size 512\n",
    "\n",
    "#python main.py --save_model 1 --wandb_p 'imagenet_vggface2' --wandb_r 'cornet_rt_8steps_ddp'  --objective 'classification' --dataset 'imagenet_vggface2' --run 4 --task_arch 'cornet_rt' --batch_size 128\n",
    "\n",
    "script = f'''#!/bin/sh\n",
    "#\n",
    "#\n",
    "#SBATCH --account=nklab\n",
    "#SBATCH --job-name=bl  # The job name.\n",
    "#SBATCH --gres=gpu:2\n",
    "#SBATCH --nodelist=ax17\n",
    "#SBATCH --cpus-per-task=24\n",
    "\n",
    "ml load anaconda3-2019.03\n",
    "\n",
    "cd /engram/nklab/hossein/recurrent_models/BLT_models/\n",
    "\n",
    "conda activate pytorch\n",
    "\n",
    "python main.py --save_model 0 --dataset 'imagenet' --wandb_p 'imagenet' --wandb_r 'blt_bl'  --model 'blt_bl' --epochs 100 --lr .001\n",
    "\n",
    "'''\n",
    "\n",
    "bash_script_path = \"/engram/nklab/hossein/batch_scripts/imagenet_nb.sh\"\n",
    "os.chdir('/engram/nklab/hossein/batch_scripts/')\n",
    "\n",
    "with open(bash_script_path, \"w+\") as bash_script_file:\n",
    "    bash_script_file.write(script)\n",
    "\n",
    "subprocess.run(['sbatch', '/engram/nklab/hossein/batch_scripts/imagenet_nb.sh'\n",
    "])"
   ]
  }
 ],
 "metadata": {
  "kernelspec": {
   "display_name": "Python 3 (ipykernel)",
   "language": "python",
   "name": "python3"
  }
 },
 "nbformat": 4,
 "nbformat_minor": 2
}
